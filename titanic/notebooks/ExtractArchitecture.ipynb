{
 "cells": [
  {
   "cell_type": "code",
   "execution_count": 1,
   "metadata": {},
   "outputs": [],
   "source": [
    "import requests\n",
    "from requests import session\n",
    "\n",
    "url = \"https://zenodo.org/record/7070952/files/geometries.csv?download=1\"\n",
    "\n",
    "with session() as c:\n",
    "    # get request\n",
    "    response = c.get(url)\n",
    "    # print response text\n",
    "    print(response.text)"
   ]
  }
 ],
 "metadata": {
  "kernelspec": {
   "display_name": "Python 3",
   "language": "python",
   "name": "python3"
  },
  "language_info": {
   "codemirror_mode": {
    "name": "ipython",
    "version": 3
   },
   "file_extension": ".py",
   "mimetype": "text/x-python",
   "name": "python",
   "nbconvert_exporter": "python",
   "pygments_lexer": "ipython3",
   "version": "3.11.1"
  },
  "orig_nbformat": 4,
  "vscode": {
   "interpreter": {
    "hash": "9d727310650a0f268ffd805bee6c88979c332824aa27914c7c2341d2c2555312"
   }
  }
 },
 "nbformat": 4,
 "nbformat_minor": 2
}
